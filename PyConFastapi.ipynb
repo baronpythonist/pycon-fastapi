{
 "cells": [
  {
   "cell_type": "markdown",
   "metadata": {},
   "source": [
    "# Supercharging Your Web Development with FastAPI\n",
    "\n",
    "Welcome to the exciting world of FastAPI, where web development meets speed and simplicity! In this live Jupyter demonstration, we'll delve into the ins and outs of FastAPI, a modern Python web framework that's been gaining traction for its lightning-fast performance and intuitive API design.\n",
    "\n",
    "Whether you're a seasoned developer looking to streamline your workflow or a newcomer eager to explore the latest tools in Python web development, this session is tailor-made for you. Join us as we explore FastAPI's key features, walk through code examples, and demonstrate how it can revolutionize the way you build web applications - all within the interactive environment of Jupyter.\n",
    "\n",
    "Get ready to supercharge your development process with FastAPI - because in the fast-paced world of web development, every millisecond counts!\n",
    "\n",
    "May 16, 2024\n",
    "\n",
    "By baronpythonist (Byron): Intro generated from OpenAI's ChatGPT."
   ]
  },
  {
   "cell_type": "markdown",
   "metadata": {},
   "source": [
    "## Imports and app instantiation"
   ]
  },
  {
   "cell_type": "code",
   "execution_count": 79,
   "metadata": {},
   "outputs": [],
   "source": [
    "from fastapi import FastAPI, status, HTTPException\n",
    "from asyncio import sleep\n",
    "import nest_asyncio\n",
    "from pydantic import BaseModel, datetime_parse\n",
    "from typing import Optional, Union\n",
    "from enum import Enum\n",
    "import uvicorn\n",
    "from uuid import uuid4\n",
    "\n",
    "app = FastAPI()"
   ]
  },
  {
   "cell_type": "markdown",
   "metadata": {},
   "source": [
    "## Example Pydantic Models"
   ]
  },
  {
   "cell_type": "code",
   "execution_count": 80,
   "metadata": {},
   "outputs": [],
   "source": [
    "class PyTalk(BaseModel):\n",
    "    id: str | None = None\n",
    "    datetime: str\n",
    "    topic: str\n",
    "    speaker: str\n",
    "    description: str | None = None\n",
    "\n",
    "class EventType(str, Enum):\n",
    "    meal = \"meal\"\n",
    "    main = \"main\"\n",
    "    keynote = \"keynote\"\n",
    "    lightning = \"lightning\"\n",
    "\n",
    "class PyEvent(BaseModel):\n",
    "    id: str | None = None\n",
    "    datetime: str\n",
    "    title: str\n",
    "    type: EventType\n",
    "\n",
    "class PySchedule(BaseModel):\n",
    "    id: str | None = None\n",
    "    name: str\n",
    "    talks: list[PyTalk] = []\n",
    "    events: list[PyEvent] = []"
   ]
  },
  {
   "cell_type": "markdown",
   "metadata": {},
   "source": [
    "## Example Endpoints"
   ]
  },
  {
   "cell_type": "code",
   "execution_count": 81,
   "metadata": {},
   "outputs": [],
   "source": [
    "class DataBase:\n",
    "    schedules: dict[str,PySchedule] = {}\n",
    "\n",
    "@app.get('/')\n",
    "def info_dump():\n",
    "    \"\"\"info_dump(): Simple hello world endpoint for PyCon.\n",
    "    \n",
    "    params: None\n",
    "    output:\n",
    "        JSON object:\n",
    "            message: `str` = hello-world-style message\n",
    "    \"\"\"\n",
    "    return {'message': 'Hello PyCon US 2024!'}\n",
    "\n",
    "@app.post('/schedule', status_code=status.HTTP_201_CREATED)\n",
    "def create_schedule(schedule: PySchedule):\n",
    "    \"\"\"create_schedule(schedule): Creates a schedule from a validated JSON object\n",
    "    \n",
    "    params:\n",
    "        schedule: `PySchedule` = conference schedule defined by Pydantic model\n",
    "    output:\n",
    "        schedule: `PySchedule` = schedule + id\n",
    "    \"\"\"\n",
    "    if schedule.id is None:\n",
    "        schedule.id = str(uuid4())\n",
    "        DataBase.schedules[schedule.id] = schedule\n",
    "        return schedule\n",
    "    else:\n",
    "        raise HTTPException(status_code=status.HTTP_409_CONFLICT, detail=\"Schedule already exists!\")\n",
    "\n",
    "@app.get('/schedule/talks')\n",
    "def get_all_talks():\n",
    "    \"\"\"get_all_talks():\n",
    "    \n",
    "    params: None\n",
    "    output:\n",
    "        JSON object:\n",
    "            all_talks: `list[PyTalk]` = list of talks with non-empty ids\n",
    "    \"\"\"\n",
    "    all_talks = []\n",
    "    for _, schedule in DataBase.schedules.items():\n",
    "        all_talks.extend([talk for talk in schedule.talks if talk.id is not None])\n",
    "    return {\"all_talks\": all_talks}\n",
    "\n",
    "@app.get('/schedule/{sch_id}/talks/{talk_id}')\n",
    "def get_talk(sch_id: str, talk_id: str):\n",
    "    \"\"\"get_talk(sch_id, talk_id): Get specific talk by ID.\n",
    "    \n",
    "    params:\n",
    "        sch_id: `str` = uuid of `PySchedule` as `str`\n",
    "        talk_id: `str` = uuid of `PyTalk` as `str`\n",
    "    output:\n",
    "\n",
    "    \"\"\"\n",
    "    if sch_id in DataBase.schedules:\n",
    "        for talk in DataBase.schedules[sch_id].talks:\n",
    "            if talk.id == talk_id:\n",
    "                return {\"talk\": talk}\n",
    "    raise HTTPException(status_code=status.HTTP_404_NOT_FOUND, detail=\"talk not found\")"
   ]
  },
  {
   "cell_type": "markdown",
   "metadata": {},
   "source": [
    "## Example API launcher"
   ]
  },
  {
   "cell_type": "code",
   "execution_count": 84,
   "metadata": {},
   "outputs": [],
   "source": [
    "def launcher(app):\n",
    "    def launch_app():\n",
    "        nest_asyncio.apply()\n",
    "        uvicorn.run(app)\n",
    "    return launch_app"
   ]
  },
  {
   "cell_type": "markdown",
   "metadata": {},
   "source": [
    "Spin-up API; interupt this cell to take down API and continue (ignore `KeyboardInterruptError` message)."
   ]
  },
  {
   "cell_type": "markdown",
   "metadata": {},
   "source": [
    "## Example Shedule Body (Copy into Swagger)\n",
    "\n",
    "```json\n",
    "{\n",
    " \"name\": \"PyConUS24\",\n",
    "  \"talks\": [\n",
    "    {\n",
    "      \"id\": \"01\",\n",
    "      \"datetime\": \"Friday @ 11:00 AM\",\n",
    "      \"topic\": \"FastAPI Discussion and Demo\",\n",
    "      \"speaker\": \"Byron Burks\",\n",
    "      \"description\": null\n",
    "    }\n",
    "  ],\n",
    "  \"events\": [\n",
    "    {\n",
    "      \"id\": \"11\",\n",
    "      \"datetime\": \"Saturday @ 7:30 AM\",\n",
    "      \"title\": \"Breakfast\",\n",
    "      \"type\": \"meal\"\n",
    "    }\n",
    "  ]\n",
    "}\n",
    "```"
   ]
  },
  {
   "cell_type": "code",
   "execution_count": null,
   "metadata": {},
   "outputs": [],
   "source": [
    "runf = launcher(app)\n",
    "runf()"
   ]
  },
  {
   "cell_type": "markdown",
   "metadata": {},
   "source": [
    "## Playground area: write new API endpoints and try them out!"
   ]
  },
  {
   "cell_type": "code",
   "execution_count": null,
   "metadata": {},
   "outputs": [],
   "source": []
  }
 ],
 "metadata": {
  "kernelspec": {
   "display_name": "fastenv",
   "language": "python",
   "name": "python3"
  },
  "language_info": {
   "codemirror_mode": {
    "name": "ipython",
    "version": 3
   },
   "file_extension": ".py",
   "mimetype": "text/x-python",
   "name": "python",
   "nbconvert_exporter": "python",
   "pygments_lexer": "ipython3",
   "version": "3.12.3"
  }
 },
 "nbformat": 4,
 "nbformat_minor": 2
}
