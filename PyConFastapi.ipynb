{
 "cells": [
  {
   "cell_type": "markdown",
   "metadata": {},
   "source": [
    "# Supercharging Your Web Development with FastAPI\n",
    "\n",
    "Welcome to the exciting world of FastAPI, where web development meets speed and simplicity! In this live Jupyter demonstration, we'll delve into the ins and outs of FastAPI, a modern Python web framework that's been gaining traction for its lightning-fast performance and intuitive API design.\n",
    "\n",
    "Whether you're a seasoned developer looking to streamline your workflow or a newcomer eager to explore the latest tools in Python web development, this session is tailor-made for you. Join us as we explore FastAPI's key features, walk through code examples, and demonstrate how it can revolutionize the way you build web applications - all within the interactive environment of Jupyter.\n",
    "\n",
    "Get ready to supercharge your development process with FastAPI - because in the fast-paced world of web development, every millisecond counts!\n",
    "\n",
    "May 16, 2024\n",
    "\n",
    "By baronpythonist (Byron): Intro generated from OpenAI's ChatGPT."
   ]
  },
  {
   "cell_type": "markdown",
   "metadata": {},
   "source": [
    "## Imports and app instantiation"
   ]
  },
  {
   "cell_type": "code",
   "execution_count": 40,
   "metadata": {},
   "outputs": [],
   "source": [
    "from fastapi import FastAPI, status, HTTPException, Body\n",
    "import nest_asyncio\n",
    "from pydantic import BaseModel, Field, BeforeValidator, ConfigDict\n",
    "from typing import Optional, Annotated\n",
    "from enum import Enum\n",
    "import uvicorn\n",
    "from uuid import uuid1\n",
    "from motor import motor_asyncio\n",
    "import os\n",
    "\n",
    "app = FastAPI()\n",
    "\n",
    "try:\n",
    "    mongo_url = os.environ[\"MONGODB_URL\"]\n",
    "except KeyError:\n",
    "    mongo_url = None\n",
    "if mongo_url is None:\n",
    "    schedule_collection = None\n",
    "else:\n",
    "    client = motor_asyncio.AsyncIOMotorClient(os.environ[\"MONGODB_URL\"])\n",
    "    db = client.get_database(\"pycon\")\n",
    "    schedule_collection = db.get_collection(\"schedules\")"
   ]
  },
  {
   "cell_type": "markdown",
   "metadata": {},
   "source": [
    "## Example Pydantic Models"
   ]
  },
  {
   "cell_type": "code",
   "execution_count": 41,
   "metadata": {},
   "outputs": [],
   "source": [
    "# Represents an ObjectId field in the database.\n",
    "# It will be represented as a `str` on the model so that it can be serialized to JSON.\n",
    "PyObjectId = Annotated[str, BeforeValidator(str)]\n",
    "\n",
    "class PyTalk(BaseModel):\n",
    "    id: Optional[PyObjectId] = Field(alias=\"_id\", default=None)\n",
    "    datetime: str\n",
    "    topic: str\n",
    "    speaker: str\n",
    "    description: str | None = None\n",
    "    model_config = ConfigDict(\n",
    "        populate_by_name=True,\n",
    "        arbitrary_types_allowed=True\n",
    "    )\n",
    "\n",
    "class PyTalkCollection(BaseModel):\n",
    "    talks: list[PyTalk]\n",
    "\n",
    "class EventType(str, Enum):\n",
    "    meal = \"meal\"\n",
    "    main = \"main\"\n",
    "    keynote = \"keynote\"\n",
    "    lightning = \"lightning\"\n",
    "\n",
    "class PyEvent(BaseModel):\n",
    "    id: Optional[PyObjectId] = Field(alias=\"_id\", default=None)\n",
    "    datetime: str\n",
    "    title: str\n",
    "    type: EventType\n",
    "    model_config = ConfigDict(\n",
    "        populate_by_name=True,\n",
    "        arbitrary_types_allowed=True\n",
    "    )\n",
    "\n",
    "class PyEventCollection(BaseModel):\n",
    "    events: list[PyEvent]\n",
    "\n",
    "class PySchedule(BaseModel):\n",
    "    id: Optional[PyObjectId] = Field(alias=\"_id\", default=None)\n",
    "    name: str\n",
    "    talks: PyTalkCollection | None = None\n",
    "    events: PyEventCollection | None = None\n",
    "    model_config = ConfigDict(\n",
    "        populate_by_name=True,\n",
    "        arbitrary_types_allowed=True\n",
    "    )\n",
    "\n",
    "class PyScheduleCollection(BaseModel):\n",
    "    schedules: list[PySchedule]"
   ]
  },
  {
   "cell_type": "markdown",
   "metadata": {},
   "source": [
    "## Example Endpoints"
   ]
  },
  {
   "cell_type": "code",
   "execution_count": 42,
   "metadata": {},
   "outputs": [],
   "source": [
    "class DataBase:\n",
    "    all_schedules: PyScheduleCollection = PyScheduleCollection(schedules=[])\n",
    "\n",
    "@app.get('/')\n",
    "async def info_dump():\n",
    "    \"\"\"info_dump(): Simple hello world endpoint for PyCon.\n",
    "    \n",
    "    params: None\n",
    "    output:\n",
    "        JSON object:\n",
    "            message: `str` = hello-world style message\n",
    "    \"\"\"\n",
    "    return {'message': 'Hello PyCon US 2024!'}\n",
    "\n",
    "@app.post('/schedule',\n",
    "    response_description=\"Add new schedule\",\n",
    "    response_model=PySchedule,\n",
    "    status_code=status.HTTP_201_CREATED,\n",
    "    response_model_by_alias=False,\n",
    ")\n",
    "async def create_schedule(schedule: PySchedule = Body(...)):\n",
    "    \"\"\"create_schedule(schedule): Creates a schedule from a validated JSON object\n",
    "    \n",
    "    params:\n",
    "        schedule: `PySchedule` = conference schedule defined by Pydantic model\n",
    "    output:\n",
    "        schedule: `PySchedule` = schedule + id\n",
    "    \"\"\"\n",
    "    if schedule.id is None:\n",
    "        schedule.id = PyObjectId(uuid1())\n",
    "        if schedule_collection is not None:\n",
    "            new_schedule = await schedule_collection.insert_one(\n",
    "                schedule.model_dump(by_alias=True)\n",
    "            )\n",
    "            new_schedule.id = str(new_schedule.id)\n",
    "            return new_schedule\n",
    "        else:\n",
    "            schedule.id = str(schedule.id)\n",
    "            DataBase.all_schedules.schedules.append(schedule)\n",
    "            return schedule\n",
    "    else:\n",
    "        raise HTTPException(status_code=status.HTTP_409_CONFLICT, detail=\"Schedule already exists!\")\n",
    "\n",
    "@app.get('/schedule/talks',\n",
    "    response_description=\"Get all talks\",\n",
    "    response_model=PyTalkCollection,\n",
    "    response_model_by_alias=False,\n",
    ")\n",
    "async def get_all_talks():\n",
    "    \"\"\"get_all_talks():\n",
    "    \n",
    "    params: None\n",
    "    output:\n",
    "        JSON object:\n",
    "            all_talks: `list[PyTalk]` = list of talks with non-empty ids\n",
    "    \"\"\"\n",
    "    all_talks = []\n",
    "    if schedule_collection is not None:\n",
    "        schedule_sets = await schedule_collection.find().to_list(100)\n",
    "        all_schedules = schedule_sets[0].schedules if schedule_sets else []\n",
    "    else:\n",
    "        all_schedules = DataBase.all_schedules.schedules if DataBase.all_schedules else []\n",
    "    for schedule in all_schedules:\n",
    "        all_talks.extend(schedule.talks.talks if schedule.talks is not None else [])\n",
    "    return PyTalkCollection(talks=all_talks)\n",
    "\n",
    "@app.get('/schedule/{sch_id}/talks/{talk_id}',\n",
    "    response_description=\"Get talk by Id\",\n",
    "    response_model=PyTalk,\n",
    "    response_model_by_alias=False,\n",
    ")\n",
    "async def get_talk(sch_id: str, talk_id: str):\n",
    "    \"\"\"get_talk(sch_id, talk_id): Get specific talk by Id.\n",
    "    \n",
    "    params:\n",
    "        sch_id: `str` = uuid of `PySchedule` as `str`\n",
    "        talk_id: `str` = uuid of `PyTalk` as `str`\n",
    "    output:\n",
    "\n",
    "    \"\"\"\n",
    "    if schedule_collection is not None:\n",
    "        schedule_sets = await schedule_collection.find().to_list(100)\n",
    "        all_schedules = schedule_sets[0].schedules if schedule_sets else []\n",
    "    else:\n",
    "        all_schedules = DataBase.all_schedules.schedules if DataBase.all_schedules else []\n",
    "    for schedule in all_schedules:\n",
    "        if schedule.id == sch_id:\n",
    "            all_talks = schedule.talks.talks if schedule.talks is not None else []\n",
    "            for talk in all_talks:\n",
    "                if talk.id == talk_id:\n",
    "                    return talk\n",
    "    raise HTTPException(status_code=status.HTTP_404_NOT_FOUND, detail=\"talk not found\")"
   ]
  },
  {
   "cell_type": "markdown",
   "metadata": {},
   "source": [
    "## Example API launcher"
   ]
  },
  {
   "cell_type": "code",
   "execution_count": 43,
   "metadata": {},
   "outputs": [],
   "source": [
    "def launcher(app):\n",
    "    def launch_app():\n",
    "        nest_asyncio.apply()\n",
    "        uvicorn.run(app)\n",
    "    return launch_app"
   ]
  },
  {
   "cell_type": "markdown",
   "metadata": {},
   "source": [
    "## Example Shedule Body (Copy into Swagger)\n",
    "\n",
    "```json\n",
    "{\n",
    "  \"name\": \"string\",\n",
    "  \"talks\": {\n",
    "    \"talks\": [\n",
    "      {\n",
    "        \"_id\": \"01\",\n",
    "        \"datetime\": \"Friday @ 11:00 AM\",\n",
    "        \"topic\": \"FastAPI Discussion and Demo\",\n",
    "        \"speaker\": \"Byron Burks\",\n",
    "        \"description\": null\n",
    "      }\n",
    "    ]\n",
    "  },\n",
    "  \"events\": {\n",
    "    \"events\": [\n",
    "      {\n",
    "        \"_id\": \"11\",\n",
    "        \"datetime\": \"Saturday @ 7:30 AM\",\n",
    "        \"title\": \"Breakfast\",\n",
    "        \"type\": \"meal\"\n",
    "      }\n",
    "    ]\n",
    "  }\n",
    "}\n",
    "```"
   ]
  },
  {
   "cell_type": "markdown",
   "metadata": {},
   "source": [
    "Spin-up API; interupt this cell to take down API and continue (ignore `KeyboardInterruptError` message)."
   ]
  },
  {
   "cell_type": "code",
   "execution_count": null,
   "metadata": {},
   "outputs": [],
   "source": [
    "runf = launcher(app)\n",
    "runf()"
   ]
  },
  {
   "cell_type": "markdown",
   "metadata": {},
   "source": [
    "## Playground area: write new API endpoints and try them out!"
   ]
  },
  {
   "cell_type": "code",
   "execution_count": null,
   "metadata": {},
   "outputs": [],
   "source": []
  }
 ],
 "metadata": {
  "kernelspec": {
   "display_name": "fastenv",
   "language": "python",
   "name": "python3"
  },
  "language_info": {
   "codemirror_mode": {
    "name": "ipython",
    "version": 3
   },
   "file_extension": ".py",
   "mimetype": "text/x-python",
   "name": "python",
   "nbconvert_exporter": "python",
   "pygments_lexer": "ipython3",
   "version": "3.12.3"
  }
 },
 "nbformat": 4,
 "nbformat_minor": 2
}
